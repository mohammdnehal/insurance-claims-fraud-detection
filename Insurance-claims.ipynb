{
 "cells": [
  {
   "cell_type": "code",
   "execution_count": null,
   "id": "fa0050c7-1c61-4f2b-bb47-3e5a007329cd",
   "metadata": {},
   "outputs": [],
   "source": []
  }
 ],
 "metadata": {
  "kernelspec": {
   "display_name": "",
   "name": ""
  },
  "language_info": {
   "name": ""
  }
 },
 "nbformat": 4,
 "nbformat_minor": 5
}
